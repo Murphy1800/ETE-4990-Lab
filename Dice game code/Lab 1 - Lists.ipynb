{
 "cells": [
  {
   "cell_type": "code",
   "execution_count": 69,
   "id": "4950a6da",
   "metadata": {
    "scrolled": false
   },
   "outputs": [
    {
     "name": "stdout",
     "output_type": "stream",
     "text": [
      "Roll a 6 to win\n",
      "Press enter to roll the dice\n",
      "You didnt roll a 6, You Lose:(\n",
      "Dice results: [3, 3, 5, 2, 1]\n",
      "\n",
      "Gameplay Satistics:\n",
      "Results of Game: ['Loss']\n",
      "Win / Loss ['Loss']\n",
      "Total Rolls [5]\n",
      "Thanks for playing\n"
     ]
    }
   ],
   "source": [
    "import random\n",
    "\n",
    "def roll():\n",
    "    return random.randint(1,6)\n",
    "\n",
    "def game():\n",
    "\n",
    "    total_dice_roll = []\n",
    "    statistics = []\n",
    "    results = []\n",
    "    \n",
    "    print(\"Roll a 6 to win\")\n",
    "    input(\"Press enter to roll the dice\")\n",
    "    \n",
    "    dice_results = [roll() for _ in range(5)]\n",
    "    \n",
    "    if any(die == 6 for die in dice_results):\n",
    "            print (\"You rolled at least one 6! You Win!\")\n",
    "            results.append(\"win\")\n",
    "            statistics.append(\"Win\")\n",
    "    elif any(die != 6 for die in dice_results):\n",
    "        print (\"You didnt roll a 6, You Lose:(\")\n",
    "        results.append(\"Loss\")\n",
    "        statistics.append(\"Loss\")\n",
    "\n",
    "    print(f\"Dice results: {dice_results}\")\n",
    "    \n",
    "    total_dice_roll.append(len(dice_results))\n",
    "    \n",
    "    print(\"\\nGameplay Satistics:\")\n",
    "    print(\"Results of Game:\", results)\n",
    "    print(\"Win / Loss\", statistics)\n",
    "    print(\"Total Rolls\", total_dice_roll)\n",
    "    print(\"Thanks for playing\")\n",
    "\n",
    "game()"
   ]
  },
  {
   "cell_type": "code",
   "execution_count": null,
   "id": "49ff584e",
   "metadata": {},
   "outputs": [],
   "source": []
  }
 ],
 "metadata": {
  "kernelspec": {
   "display_name": "Python 3 (ipykernel)",
   "language": "python",
   "name": "python3"
  },
  "language_info": {
   "codemirror_mode": {
    "name": "ipython",
    "version": 3
   },
   "file_extension": ".py",
   "mimetype": "text/x-python",
   "name": "python",
   "nbconvert_exporter": "python",
   "pygments_lexer": "ipython3",
   "version": "3.11.5"
  }
 },
 "nbformat": 4,
 "nbformat_minor": 5
}
