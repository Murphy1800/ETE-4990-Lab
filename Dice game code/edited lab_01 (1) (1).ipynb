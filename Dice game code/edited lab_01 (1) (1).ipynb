{
 "cells": [
  {
   "cell_type": "code",
   "execution_count": 5,
   "id": "9ff047ae",
   "metadata": {
    "tags": []
   },
   "outputs": [
    {
     "name": "stdout",
     "output_type": "stream",
     "text": [
      "Roll a 6 to win\n"
     ]
    },
    {
     "name": "stdin",
     "output_type": "stream",
     "text": [
      "Press enter to roll the dice 6\n"
     ]
    },
    {
     "name": "stdout",
     "output_type": "stream",
     "text": [
      "You rolled at least one 6! You Win!\n",
      "Dice results:  [5, 6, 4, 4, 2]\n"
     ]
    }
   ],
   "source": [
    "import random\n",
    "\n",
    "def roll():\n",
    "    return random.randint(1,6)\n",
    "\n",
    "def game():\n",
    "\n",
    "    total_dice_roll = []\n",
    "    statistics = []\n",
    "    results = []\n",
    "    \n",
    "    print(\"Roll a 6 to win\")\n",
    "    input(\"Press enter to roll the dice\")\n",
    "    \n",
    "    dice_results = [roll() for _ in range(5)] #What is this underscore?\n",
    "   #Single set statements if either is met it will break. If it were in a while loop, you could replay until user input is correct.\n",
    "    if any(die == 6 for die in dice_results):\n",
    "            print (\"You rolled at least one 6! You Win!\")\n",
    "            results.append(\"win\")\n",
    "            statistics.append(\"Win\")\n",
    "    elif any(die != 6 for die in dice_results):\n",
    "        print (\"You didnt roll a 6, You Lose:(\")\n",
    "        results.append(\"Loss\")\n",
    "        statistics.append(\"Loss\")\n",
    "    #There are plenty of methods to print the list, but this below is quicker.\n",
    "    print(\"Dice results: \", dice_results)\n",
    "    \n",
    "    total_dice_roll.append(len(dice_results))\n",
    "    \n",
    "    #Results of the game is good, but you have already displayed results above.\n",
    "    #print(\"\\nGameplay Satistics:\")\n",
    "    #print(\"Results of Game:\", results)\n",
    "    #print(\"Win / Loss\", statistics)\n",
    "    #print(\"Total Rolls\", total_dice_roll)\n",
    "    #print(\"Thanks for playing\")\n",
    "\n",
    "game()"
   ]
  },
  {
   "cell_type": "code",
   "execution_count": 2,
   "id": "d65a0f04",
   "metadata": {},
   "outputs": [
    {
     "ename": "NameError",
     "evalue": "name 'roll' is not defined",
     "output_type": "error",
     "traceback": [
      "\u001b[1;31m---------------------------------------------------------------------------\u001b[0m",
      "\u001b[1;31mNameError\u001b[0m                                 Traceback (most recent call last)",
      "Cell \u001b[1;32mIn[2], line 1\u001b[0m\n\u001b[1;32m----> 1\u001b[0m roll(\u001b[38;5;241m5\u001b[39m)\n",
      "\u001b[1;31mNameError\u001b[0m: name 'roll' is not defined"
     ]
    }
   ],
   "source": []
  }
 ],
 "metadata": {
  "kernelspec": {
   "display_name": "Python 3 (ipykernel)",
   "language": "python",
   "name": "python3"
  },
  "language_info": {
   "codemirror_mode": {
    "name": "ipython",
    "version": 3
   },
   "file_extension": ".py",
   "mimetype": "text/x-python",
   "name": "python",
   "nbconvert_exporter": "python",
   "pygments_lexer": "ipython3",
   "version": "3.11.5"
  }
 },
 "nbformat": 4,
 "nbformat_minor": 5
}
